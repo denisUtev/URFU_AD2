{
 "cells": [
  {
   "cell_type": "code",
   "execution_count": 5,
   "id": "896314ae",
   "metadata": {},
   "outputs": [
    {
     "name": "stderr",
     "output_type": "stream",
     "text": [
      "C:\\Users\\utev2\\AppData\\Local\\Temp\\ipykernel_6928\\3346068967.py:21: DeprecationWarning: [Deprecated][in version 6.0.0]: Method signature's arguments 'range_name' and 'values' will change their order. We recommend using named arguments for minimal impact. In addition, the argument 'values' will be mandatory of type: 'List[List]'. (ex) Worksheet.update(values = [[]], range_name=) \n",
      "  sh.sheet1.update(('A' + str(i)), str(i))\n",
      "C:\\Users\\utev2\\AppData\\Local\\Temp\\ipykernel_6928\\3346068967.py:22: DeprecationWarning: [Deprecated][in version 6.0.0]: Method signature's arguments 'range_name' and 'values' will change their order. We recommend using named arguments for minimal impact. In addition, the argument 'values' will be mandatory of type: 'List[List]'. (ex) Worksheet.update(values = [[]], range_name=) \n",
      "  sh.sheet1.update(('B' + str(i)), str(price[i-1]))\n",
      "C:\\Users\\utev2\\AppData\\Local\\Temp\\ipykernel_6928\\3346068967.py:23: DeprecationWarning: [Deprecated][in version 6.0.0]: Method signature's arguments 'range_name' and 'values' will change their order. We recommend using named arguments for minimal impact. In addition, the argument 'values' will be mandatory of type: 'List[List]'. (ex) Worksheet.update(values = [[]], range_name=) \n",
      "  sh.sheet1.update(('C' + str(i)), str(tempInf))\n",
      "C:\\Users\\utev2\\AppData\\Local\\Temp\\ipykernel_6928\\3346068967.py:24: DeprecationWarning: [Deprecated][in version 6.0.0]: Method signature's arguments 'range_name' and 'values' will change their order. We recommend using named arguments for minimal impact. In addition, the argument 'values' will be mandatory of type: 'List[List]'. (ex) Worksheet.update(values = [[]], range_name=) \n",
      "  sh.sheet1.update(('H' + str(i)), num1)\n",
      "C:\\Users\\utev2\\AppData\\Local\\Temp\\ipykernel_6928\\3346068967.py:25: DeprecationWarning: [Deprecated][in version 6.0.0]: Method signature's arguments 'range_name' and 'values' will change their order. We recommend using named arguments for minimal impact. In addition, the argument 'values' will be mandatory of type: 'List[List]'. (ex) Worksheet.update(values = [[]], range_name=) \n",
      "  sh.sheet1.update(('I' + str(i)), float(num2))\n"
     ]
    },
    {
     "name": "stdout",
     "output_type": "stream",
     "text": [
      "-80,0\n",
      "2750,0\n",
      "7,017543859649122\n",
      "-55,73770491803278\n",
      "-3,7037037037037033\n",
      "23,076923076923077\n",
      "-18,75\n",
      "88,46153846153845\n",
      "8,16326530612245\n",
      "3,7735849056603774\n",
      "-81,81818181818183\n"
     ]
    }
   ],
   "source": [
    "import gspread\n",
    "import numpy as np\n",
    "gc = gspread.service_account(filename='unitydatascience-405215-87da4d6be23c.json')\n",
    "sh = gc.open(\"UnityWorkshop2\")\n",
    "price = np.random.randint(0, 64, 11)\n",
    "mon = list(range(1,11))\n",
    "i = 0\n",
    "while i <= len(mon):\n",
    "    i += 1\n",
    "    if i == 0:\n",
    "        continue\n",
    "    else:\n",
    "        if (price[i - 2] == 0):\n",
    "            tempInf = \"Infinity\"\n",
    "        else:\n",
    "            tempInf = ((price[i-1]-price[i-2])/price[i-2])*100\n",
    "        num1 = tempInf\n",
    "        num2 = price[i-1]\n",
    "        tempInf = str(tempInf)\n",
    "        tempInf = tempInf.replace('.',',')\n",
    "        sh.sheet1.update(('A' + str(i)), str(i))\n",
    "        sh.sheet1.update(('B' + str(i)), str(price[i-1]))\n",
    "        sh.sheet1.update(('C' + str(i)), str(tempInf))\n",
    "        sh.sheet1.update(('H' + str(i)), num1)#Для анализа в графике (нужен тип float)\n",
    "        sh.sheet1.update(('I' + str(i)), float(num2))#Для анализа в графике (нужен тип float)\n",
    "        print(tempInf)\n"
   ]
  },
  {
   "cell_type": "code",
   "execution_count": null,
   "id": "f83a0526",
   "metadata": {},
   "outputs": [],
   "source": []
  }
 ],
 "metadata": {
  "kernelspec": {
   "display_name": "Python 3 (ipykernel)",
   "language": "python",
   "name": "python3"
  },
  "language_info": {
   "codemirror_mode": {
    "name": "ipython",
    "version": 3
   },
   "file_extension": ".py",
   "mimetype": "text/x-python",
   "name": "python",
   "nbconvert_exporter": "python",
   "pygments_lexer": "ipython3",
   "version": "3.11.5"
  }
 },
 "nbformat": 4,
 "nbformat_minor": 5
}
